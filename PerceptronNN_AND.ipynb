{
 "cells": [
  {
   "cell_type": "code",
   "execution_count": 1,
   "metadata": {},
   "outputs": [
    {
     "data": {
      "image/png": "[encoded data removed]",
      "text/plain": [
       "<Figure size 432x288 with 1 Axes>"
      ]
     },
     "metadata": {
      "needs_background": "light"
     },
     "output_type": "display_data"
    }
   ],
   "source": [
    "import numpy as np\n",
    "import matplotlib.pyplot as plt \n",
    "import seaborn as sns\n",
    "import pandas as pd\n",
    "%matplotlib inline\n",
    "\n",
    "#Fungsi aktivasi\n",
    "def activationFunction (x):\n",
    "    return np.where(x >= 0, 1, -1)\n",
    "\n",
    "#Menggunakan tuple di dalam list untuk merepresentasikan tabel fungsi logika\n",
    "dataTraining = [((1, 1), 1), ((1, 0), -1), ((0, 1), -1), ((0, 0), -1)]\n",
    "\n",
    "x1 = [dataTraining[i][0][0] for i in range(4)]\n",
    "x2 = [dataTraining[i][0][1] for i in range(4)]\n",
    "y = [dataTraining[i][1] for i in range(4)]\n",
    "\n",
    "df = pd.DataFrame({'x1': x1,'x2': x2,'y': y})\n",
    "    \n",
    "sns.scatterplot(x='x1', y='x2', data=df, hue='y', style='y', markers=[\"o\", \"s\"], palette={1: 'orange', -1: 'blue'})\n",
    "plt.legend(title=\"Output\")\n",
    "plt.title(\"Representasi Logika AND\")\n",
    "plt.show()"
   ]
  },
  {
   "cell_type": "code",
   "execution_count": 2,
   "metadata": {},
   "outputs": [
    {
     "name": "stdout",
     "output_type": "stream",
     "text": [
      "Rumus pertidaksamaan: \u001b[1m\u001b[94m1.0719187142029556 * x1 + 3.7812916196810606 * x2 + -4.0 >= 0\u001b[0m\n",
      "Titik koordinat sumbu x1 adalah \u001b[1m-3.7812916196810606 * 0 + -4.0 / 1.0719187142029556 = \u001b[1m\u001b[91m1.0578395961794098\u001b[0m\n",
      "Titik koordinat sumbu x2 adalah \u001b[1m-1.0719187142029556 * 0 + -4.0 / 3.7812916196810606 = \u001b[1m\u001b[91m3.731626239004766\u001b[0m\n",
      "Epoch:29\n"
     ]
    },
    {
     "data": {
      "image/png": "[encoded data removed]",
      "text/plain": [
       "<Figure size 432x288 with 1 Axes>"
      ]
     },
     "metadata": {
      "needs_background": "light"
     },
     "output_type": "display_data"
    }
   ],
   "source": [
    "#Memberikan warna dan ketebalan pada hasil print\n",
    "class Color:\n",
    "    red = '\\033[91m'\n",
    "    green = '\\033[92m'\n",
    "    blue = '\\033[94m'\n",
    "    bold = '\\033[1m'\n",
    "    end = '\\033[0m'\n",
    "\n",
    "#Menentukan parameter untuk variabel yang dibutuhkan oleh algoritma perceptron\n",
    "w = np.random.rand(2)\n",
    "b = 0\n",
    "errors = [] \n",
    "learningRate = .5\n",
    "epoch = 30\n",
    "\n",
    "#Looping algoritma perceptron learning\n",
    "for i in range(epoch):\n",
    "    for x, y in dataTraining:\n",
    "        u = sum(x*w) + b\n",
    "        \n",
    "        error = y - activationFunction(u) \n",
    "      \n",
    "        errors.append(error) \n",
    "        for index, value in enumerate(x):\n",
    "            w[index] += learningRate * error * value\n",
    "            b += learningRate*error\n",
    "\n",
    "#Fungsi untuk menentukan sumbu x1 dan x2\n",
    "def tipot_x1_x2(w, b):\n",
    "    x1 = -(w[0]*0 + b) / w[1]  #Set x2 = 0 and solve for x1\n",
    "    x2 = -(w[1]*0 + b) / w[0]  #Set x1 = 0 and solve for x2\n",
    "    return x1, x2\n",
    "x1, x2 = tipot_x1_x2(w, b)\n",
    "\n",
    "#Menunjukkan hasil rumus pertidaksamaan dan nilai x1, x2\n",
    "print(f\"Rumus pertidaksamaan: {Color.bold}{Color.blue}{w[0]} * x1 + {w[1]} * x2 + {b} >= 0{Color.end}\")\n",
    "print(f\"Titik koordinat sumbu x1 adalah {Color.bold}-{w[1]} * 0 + {b} / {w[0]} = {Color.bold}{Color.red}{x1}{Color.end}\")\n",
    "print(f\"Titik koordinat sumbu x2 adalah {Color.bold}-{w[0]} * 0 + {b} / {w[1]} = {Color.bold}{Color.red}{x2}{Color.end}\")\n",
    "print(f\"Epoch:{i}\")\n",
    "\n",
    "#Menentukan pembatas prediksi antara output bipolar -1 dan 1\n",
    "a = [0,-b/w[1]]\n",
    "c = [-b/w[0],0]\n",
    "plt.figure(1)\n",
    "sns.scatterplot(x='x1', y='x2', data=df, hue='y',  markers=[\"o\", \"s\"], palette={1: 'orange', -1: 'blue'})\n",
    "plt.legend(title=\"Output\")\n",
    "plt.title('Visualisasi Grafik Kartesius')\n",
    "plt.plot(a,c)\n",
    "plt.show()"
   ]
  },
  {
   "cell_type": "code",
   "execution_count": null,
   "metadata": {},
   "outputs": [],
   "source": [
    "#Hasil Training\n",
    "ask = \"y\"\n",
    "\n",
    "#Loop selama ask = y or Y\n",
    "while (ask == \"y\" or ask == \"Y\"):\n",
    "    #Memasukkan angka x1 dan x2\n",
    "    x1 = int(input(\"Data x1: \"))\n",
    "    x2 = int(input(\"Data x2: \"))\n",
    "    \n",
    "    #Simpan ke dalam variabel dataInput dari hasil input x1 dan x2\n",
    "    dataInput = (x1,x2)\n",
    "    print(f\"{Color.bold}===Hasil Training==={Color.end}\")\n",
    "    print(\"Data yang diinput x1 dan x2 secara berurutan dalam (x1,x2):\", dataInput)\n",
    "\n",
    "    #Buat pertidaksamaan\n",
    "    equation = w[0]*x1 + w[1]*x2 + b\n",
    "    print(f\"{Color.bold}===Diketahui==={Color.end}\")\n",
    "    print(f\"w1: {w[0]}\")\n",
    "    print(f\"w2: {w[1]}\")\n",
    "    print(f\"w0: {b}\")\n",
    "    \n",
    "    #Ditanya -1 atau 1\n",
    "    print(f\"{Color.bold}===Ditanya==={Color.end}\")\n",
    "    print(\"-1 atau 1?\")\n",
    "    \n",
    "    #Menentukan rumus pertidaksamaan dan hasilnya apabila nilai x1 dan x2 dimasukkan ke dalam pertidaksamaan\n",
    "    print(f\"{Color.bold}===Jawaban==={Color.end}\")\n",
    "    print(f\"Rumus pertidaksamaan: {w[0]} * {x1} + {w[1]} * {x2} + {b}\")\n",
    "    print(f\"Output pertidaksamaan: {equation}\")\n",
    "    \n",
    "    #Menggolongkan hasil pertidaksamaan dengan fungsi aktivasi\n",
    "    print(f\"{Color.bold}===Penggolongan dengan Fungsi Aktivasi==={Color.end}\")\n",
    "    print(\"Output Hasil Training:\", activationFunction(equation))\n",
    "    if (equation >= 0):\n",
    "        print(f\"Alasan: nilai {equation} lebih besar sama dengan dari 0\")\n",
    "    else:\n",
    "        print(f\"Alasan: nilai {equation} lebih kecil dari 0\")\n",
    "    print(\"\\n\")\n",
    "    \n",
    "    ask = input(\"Apakah ingin input angka lagi?(y/n) \")\n",
    "    print(\"\\n\")"
   ]
  },
  {
   "cell_type": "code",
   "execution_count": null,
   "metadata": {},
   "outputs": [],
   "source": [
    "plt.figure(2)\n",
    "plt.ylim([-1,1]) \n",
    "plt.plot(errors)\n",
    "plt.title(\"Error\")"
   ]
  },
  {
   "cell_type": "code",
   "execution_count": null,
   "metadata": {},
   "outputs": [],
   "source": []
  }
 ],
 "metadata": {
  "kernelspec": {
   "display_name": "Python 3 (ipykernel)",
   "language": "python",
   "name": "python3"
  },
  "language_info": {
   "codemirror_mode": {
    "name": "ipython",
    "version": 3
   },
   "file_extension": ".py",
   "mimetype": "text/x-python",
   "name": "python",
   "nbconvert_exporter": "python",
   "pygments_lexer": "ipython3",
   "version": "3.9.12"
  }
 },
 "nbformat": 4,
 "nbformat_minor": 2
}
